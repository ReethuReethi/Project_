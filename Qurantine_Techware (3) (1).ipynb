{
 "cells": [
  {
   "cell_type": "code",
   "execution_count": 1,
   "metadata": {},
   "outputs": [],
   "source": [
    "import random\n",
    "import datetime\n",
    "import webbrowser\n",
    "import pyttsx3\n",
    "import wikipedia\n",
    "import speech_recognition as sr\n",
    "import cgi\n",
    "import os"
   ]
  },
  {
   "cell_type": "code",
   "execution_count": 2,
   "metadata": {},
   "outputs": [
    {
     "data": {
      "text/plain": [
       "True"
      ]
     },
     "execution_count": 2,
     "metadata": {},
     "output_type": "execute_result"
    }
   ],
   "source": [
    "content='''<html><body>\n",
    "<form action=\"confirm\">\n",
    "\n",
    "<h3><center>REGISTRATION  FORM<center></h3>\n",
    "<table align=\"center\">\n",
    "<tr><td>NAME</td><td><input type=\"text\" name=\"uname\" value=\" \"></td><tr>\n",
    "<tr><td>AGE</td><td><input type=\"text\" name=\"age\" value=\" \"> </td></tr>\n",
    "<tr><td>MAIL</td><td><input type=\"email\" name=\"mail\" value=\" \"></td></tr>\n",
    "<tr><td>GENDER</td><td><input type=\"text\" name=\"gender\" value=\" \"></td></tr>\n",
    "</table>\n",
    "<center><button type=\"submit\" form=\"confirm\" value=\"submit\">Submit</button></center>\n",
    "\n",
    "</form>\n",
    "</body>\n",
    "</html>'''\n",
    "\n",
    "try:\n",
    "    f=open(\"test.html\",\"w\")\n",
    "    f.write(content)\n",
    "    f.close\n",
    "except:\n",
    "    print(\"Unable to open\")\n",
    "\n",
    "\n",
    "url=\"http://localhost:8888/view/Quarantine/test.html\"\n",
    "webbrowser.open(url)\n"
   ]
  },
  {
   "cell_type": "code",
   "execution_count": 3,
   "metadata": {},
   "outputs": [],
   "source": [
    "engine = pyttsx3.init()\n",
    "voices = engine.getProperty('voices')\n",
    "engine.setProperty('voice', voices[1].id)\n",
    "volume = engine.getProperty('volume')\n",
    "engine.setProperty('volume', 10.0)\n",
    "rate = engine.getProperty('rate')\n",
    "engine.setProperty('rate', rate - 20)\n",
    "\n",
    "engine.say(\"Welcome to voice based form filling. Please tell your details. \")\n",
    "engine.runAndWait()"
   ]
  },
  {
   "cell_type": "code",
   "execution_count": 4,
   "metadata": {},
   "outputs": [],
   "source": [
    "def validate(n,ans):\n",
    "    if(n==0):\n",
    "        for i in ans:\n",
    "            if((i>=\"a\" and i<\"z\") or (i>=\"A\" and i<=\"Z\") or i==\" \"):\n",
    "                continue\n",
    "            else:\n",
    "                return 0\n",
    "        l.append(ans)\n",
    "        return 1\n",
    "    \n",
    "    elif(n==1):\n",
    "        for i in ans:\n",
    "            if((i>=\"0\" and i<=\"9\")):\n",
    "                continue\n",
    "            else:\n",
    "                return 0\n",
    "        ans=int(ans)\n",
    "        if(ans<0 or ans>120):\n",
    "            return 0\n",
    "        l.append(ans)\n",
    "        return 1\n",
    "    \n",
    "    elif(n==2):\n",
    "        if \"@\" not in ans:\n",
    "            return 0\n",
    "        m=ans.split(\"@\")\n",
    "        f=0\n",
    "        for i in range(len(m[0])):\n",
    "            if((m[0][i]>=\"a\" and m[0][i]<\"z\") or (m[0][i]>=\"A\" and m[0][i]<=\"Z\") or (m[0][i]>=\"0\" and m[0][i]<=\"9\") or m[0][i]==\"_\"):\n",
    "                continue\n",
    "            else:\n",
    "                return 0\n",
    "        ans=\"@\".join(m)\n",
    "        l.append(ans)\n",
    "        return 1\n",
    "\n",
    "    \n",
    "    elif(n==3):\n",
    "        if(ans!=\"male\" and ans!=\"female\"):\n",
    "            return 0\n",
    "        l.append(ans)\n",
    "        return 1        \n",
    "            \n",
    "        \n",
    "            "
   ]
  },
  {
   "cell_type": "code",
   "execution_count": 5,
   "metadata": {},
   "outputs": [],
   "source": [
    "def getDetails(n,ques):\n",
    "    while True:\n",
    "        now = datetime.datetime.now()\n",
    "        r = sr.Recognizer()\n",
    "        with sr.Microphone() as source:\n",
    "            engine.say(ques)\n",
    "            print(ques)\n",
    "            engine.runAndWait()\n",
    "            audio = r.listen(source)\n",
    "            try:\n",
    "                ans=r.recognize_google(audio)\n",
    "                engine.say(\"Did you say\")\n",
    "                engine.runAndWait()\n",
    "                print(\"Did you say:- \"+ans)\n",
    "                for i in ans:\n",
    "                    engine.say(i)\n",
    "                    engine.runAndWait()                \n",
    "                audio = r.listen(source)\n",
    "                res=r.recognize_google(audio)\n",
    "                if(res!=\"yes\"):\n",
    "                    getDetails(n,ques) \n",
    "                else:\n",
    "                    if(validate(n,ans)==0):\n",
    "                        getDetails(n,ques)                        \n",
    "                break\n",
    "            except sr.UnknownValueError:\n",
    "                print(\"Could not understand audio\")\n",
    "                engine.say('I didnt get that. Rerun the code')\n",
    "                engine.runAndWait()\n"
   ]
  },
  {
   "cell_type": "code",
   "execution_count": 6,
   "metadata": {},
   "outputs": [],
   "source": [
    "questions=[\"Tell me your Name\",\"Tell me your Age\",\"Tell me your Mail ID\",\"Tell me your Gender\"]"
   ]
  },
  {
   "cell_type": "code",
   "execution_count": 7,
   "metadata": {
    "scrolled": true
   },
   "outputs": [
    {
     "name": "stdout",
     "output_type": "stream",
     "text": [
      "Tell me your Name\n",
      "Did you say:- Teja\n",
      "Tell me your Age\n",
      "Did you say:- 19\n",
      "Tell me your Mail ID\n",
      "Did you say:- 123@gmail.com\n",
      "Tell me your Gender\n",
      "Did you say:- female\n",
      "['Teja', 19, '123@gmail.com', 'female']\n"
     ]
    }
   ],
   "source": [
    "l=[]\n",
    "for qn in range(len(questions)):\n",
    "    getDetails(qn,questions[qn])\n",
    "    \n",
    "print(l)"
   ]
  },
  {
   "cell_type": "code",
   "execution_count": 9,
   "metadata": {},
   "outputs": [
    {
     "name": "stdout",
     "output_type": "stream",
     "text": [
      "<html><body>\n",
      "<form action=\"confirm\">\n",
      "<center>\n",
      "<h4>REGISTRATION FORM</h4>\n",
      "<table>\n",
      "<tr><td>NAME</td><td><input type=\"text\" name=\"uname\" value=Teja></td><tr>\n",
      "<tr><td>AGE</td><td><input type=\"text\" name=\"age\" value=19> </td></tr>\n",
      "<tr><td>MAIL</td><td><input type=\"email\" name=\"mail\" value=123@gmail.com></td></tr>\n",
      "<tr><td>GENDER</td><td><input type=\"text\" name=\"gender\" value=female></td></tr>\n",
      "</table>\n",
      "</center>\n",
      "</form>\n",
      "</body>\n",
      "</html>\n",
      "\n"
     ]
    }
   ],
   "source": [
    "content='''<html><body>\n",
    "<form action=\"confirm\">\n",
    "<center>\n",
    "<h4>REGISTRATION FORM</h4>\n",
    "<table>\n",
    "<tr><td>NAME</td><td><input type=\"text\" name=\"uname\" value={name}></td><tr>\n",
    "<tr><td>AGE</td><td><input type=\"text\" name=\"age\" value={age}> </td></tr>\n",
    "<tr><td>MAIL</td><td><input type=\"email\" name=\"mail\" value={mail}></td></tr>\n",
    "<tr><td>GENDER</td><td><input type=\"text\" name=\"gender\" value={gender}></td></tr>\n",
    "</table>\n",
    "</center>\n",
    "</form>\n",
    "</body>\n",
    "</html>\n",
    "'''\n",
    "\n",
    "\n",
    "try:\n",
    "    form=cgi.FieldStorage()\n",
    "    name= form.getfirst(\"\",l[0])\n",
    "    age=form.getfirst(\"\",l[1])\n",
    "    mail=form.getfirst(\"\",l[2])\n",
    "    gender=form.getfirst(\"\",l[3])\n",
    "    print(content.format(**locals()))\n",
    "    f=open(\"test.html\",\"w\")\n",
    "    f.write(content.format(**locals()))\n",
    "    webbrowser.open(url)\n",
    "    f.close\n",
    "except:\n",
    "    cgi.print_exception()"
   ]
  },
  {
   "cell_type": "code",
   "execution_count": null,
   "metadata": {},
   "outputs": [],
   "source": []
  },
  {
   "cell_type": "code",
   "execution_count": null,
   "metadata": {},
   "outputs": [],
   "source": []
  }
 ],
 "metadata": {
  "kernelspec": {
   "display_name": "Python 3",
   "language": "python",
   "name": "python3"
  },
  "language_info": {
   "codemirror_mode": {
    "name": "ipython",
    "version": 3
   },
   "file_extension": ".py",
   "mimetype": "text/x-python",
   "name": "python",
   "nbconvert_exporter": "python",
   "pygments_lexer": "ipython3",
   "version": "3.6.5"
  }
 },
 "nbformat": 4,
 "nbformat_minor": 4
}
